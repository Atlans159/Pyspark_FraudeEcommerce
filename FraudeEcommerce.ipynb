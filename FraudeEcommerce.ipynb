{
  "nbformat": 4,
  "nbformat_minor": 0,
  "metadata": {
    "colab": {
      "provenance": []
    },
    "kernelspec": {
      "name": "python3",
      "display_name": "Python 3"
    },
    "language_info": {
      "name": "python"
    }
  },
  "cells": [
    {
      "cell_type": "markdown",
      "source": [
        "# **1. Instalando o Pyspark**\n"
      ],
      "metadata": {
        "id": "ygHUaDdLHsVk"
      }
    },
    {
      "cell_type": "code",
      "execution_count": 27,
      "metadata": {
        "id": "B_SUQAb4HrQJ",
        "colab": {
          "base_uri": "https://localhost:8080/"
        },
        "outputId": "fdd202a9-8898-42f3-b077-93ef3ec9ee98"
      },
      "outputs": [
        {
          "output_type": "stream",
          "name": "stdout",
          "text": [
            "Requirement already satisfied: pyspark in /usr/local/lib/python3.10/dist-packages (3.5.1)\n",
            "Requirement already satisfied: py4j==0.10.9.7 in /usr/local/lib/python3.10/dist-packages (from pyspark) (0.10.9.7)\n"
          ]
        }
      ],
      "source": [
        "!pip install pyspark"
      ]
    },
    {
      "cell_type": "markdown",
      "source": [
        "# **2. Inicializando Pyspark**"
      ],
      "metadata": {
        "id": "spa_UAbLHy_2"
      }
    },
    {
      "cell_type": "code",
      "source": [
        "import pyspark.sql as sql\n",
        "from pyspark.sql.functions import *"
      ],
      "metadata": {
        "id": "pXZBOlznH2Ww"
      },
      "execution_count": 2,
      "outputs": []
    },
    {
      "cell_type": "code",
      "source": [
        "spark = sql.SparkSession.builder.appName(\"Fraude_Ecommerce\").getOrCreate()"
      ],
      "metadata": {
        "id": "fsqzsf4jICUp"
      },
      "execution_count": 3,
      "outputs": []
    },
    {
      "cell_type": "markdown",
      "source": [
        "# **3. Lendo o Dataset**"
      ],
      "metadata": {
        "id": "Is-LhxF4IcRy"
      }
    },
    {
      "cell_type": "code",
      "source": [
        "df = spark.read.csv(\"Fraud_Data.csv\", header = True, inferSchema=True)\n",
        "\n",
        "# Definindo um schema e criando o dataframe explicitamente.\n",
        "#schema = StructType([\n",
        "#    StructField(\"user_id\", IntegerType(), nullable=True),\n",
        "#    StructField(\"signup_time\", TimestampType(), nullable=True),\n",
        "#    StructField(\"purchase_time\", TimestampType(), nullable=True),\n",
        "#    StructField(\"purchase_value\", IntegerType(), nullable=True),\n",
        "#    StructField(\"device_id\", StringType(), nullable=True),\n",
        "#    StructField(\"source\", StringType(), nullable=True),\n",
        "#    StructField(\"browser\", StringType(), nullable=True),\n",
        "#    StructField(\"sex\", StringType(), nullable=True),\n",
        "#    StructField(\"age\", IntegerType(), nullable=True),\n",
        "#    StructField(\"ip_address\", DoubleType(), nullable=True),\n",
        "#    StructField(\"class\", IntegerType(), nullable=True)\n",
        "#])\n",
        "\n",
        "#data = spark.read.csv(\"Fraud_Data.csv\", header = True)\n",
        "#df = spark.createDataFrame(data, schema)\n"
      ],
      "metadata": {
        "id": "7UQjloFzIbcz"
      },
      "execution_count": 4,
      "outputs": []
    },
    {
      "cell_type": "code",
      "source": [
        "df.show()"
      ],
      "metadata": {
        "id": "ti_DFbIG0SEi",
        "outputId": "9ee3b38a-a9b5-4503-d0ba-e8d1bdbd7ad2",
        "colab": {
          "base_uri": "https://localhost:8080/"
        }
      },
      "execution_count": 5,
      "outputs": [
        {
          "output_type": "stream",
          "name": "stdout",
          "text": [
            "+-------+-------------------+-------------------+--------------+-------------+------+-------+---+---+------------------+-----+\n",
            "|user_id|        signup_time|      purchase_time|purchase_value|    device_id|source|browser|sex|age|        ip_address|class|\n",
            "+-------+-------------------+-------------------+--------------+-------------+------+-------+---+---+------------------+-----+\n",
            "|  22058|2015-02-24 22:55:49|2015-04-18 02:47:11|            34|QVPSPJUOCKZAR|   SEO| Chrome|  M| 39| 7.3275836879972E8|    0|\n",
            "| 333320|2015-06-07 20:39:50|2015-06-08 01:38:54|            16|EOGFQPIZPYXFZ|   Ads| Chrome|  F| 53|3.50311387865908E8|    0|\n",
            "|   1359|2015-01-01 18:52:44|2015-01-01 18:52:45|            15|YSSKYOSJHPPLJ|   SEO|  Opera|  M| 53|2.62147382011095E9|    1|\n",
            "| 150084|2015-04-28 21:13:25|2015-05-04 13:54:50|            44|ATGTXKYKUDUQN|   SEO| Safari|  M| 41|3.84054244391396E9|    0|\n",
            "| 221365|2015-07-21 07:09:52|2015-09-09 18:40:53|            39|NAUITBZFJKHWW|   Ads| Safari|  M| 45|4.15583117452712E8|    0|\n",
            "| 159135|2015-05-21 06:03:03|2015-07-09 08:05:14|            42|ALEYXFXINSXLZ|   Ads| Chrome|  M| 18|2.80931519992675E9|    0|\n",
            "|  50116|2015-08-01 22:40:52|2015-08-27 03:37:57|            11|IWKVZHJOCLPUR|   Ads| Chrome|  F| 19|3.98748432851882E9|    0|\n",
            "| 360585|2015-04-06 07:35:45|2015-05-25 17:21:14|            27|HPUCUYLMJBYFW|   Ads|  Opera|  M| 34|1.69245872764945E9|    0|\n",
            "| 159045|2015-04-21 23:38:34|2015-06-02 14:01:54|            30|ILXYDOZIHOOHT|   SEO|     IE|  F| 43|3.71909425718731E9|    0|\n",
            "| 182338|2015-01-25 17:49:49|2015-03-23 23:05:42|            62|NRFFPPHZYFUVC|   Ads|     IE|  M| 31|3.41674739579911E8|    0|\n",
            "| 199700|2015-07-11 18:26:54|2015-10-28 21:59:40|            13|TEPSJVVXGNTYR|   Ads| Safari|  F| 35|1.81900857779416E9|    0|\n",
            "|  73884|2015-05-29 16:22:02|2015-06-16 05:45:58|            58|ZTZZJUCRDOCJZ|Direct| Chrome|  M| 32|4.03828455322917E9|    0|\n",
            "|  79203|2015-06-16 21:19:35|2015-06-21 03:29:59|            18|IBPNKSMCKUZWD|   SEO| Safari|  M| 33|4.16154092660127E9|    0|\n",
            "| 299320|2015-03-03 19:17:07|2015-04-05 12:32:36|            50|RMKQNVEWGTWPC|Direct| Safari|  M| 38|3.17851001463508E9|    0|\n",
            "|  82931|2015-02-16 02:50:30|2015-04-16 00:56:47|            15|XKIFNYUZMBWFU|   SEO|     IE|  M| 24| 4.2034877539487E9|    0|\n",
            "|  31383|2015-02-01 01:06:17|2015-03-24 10:17:58|            58|UNUAVQXNWFBMO|   SEO| Safari|  F| 24|9.95732779036539E8|    0|\n",
            "|  78986|2015-05-15 03:52:08|2015-08-11 02:29:47|            57|TGHVAWBMZRDHH|   SEO|FireFox|  M| 23|3.50388339185422E9|    0|\n",
            "| 119824|2015-03-20 00:31:27|2015-04-05 07:31:46|            55|WFIIFCPIOGMHT|   Ads| Safari|  M| 38|  131423.789041531|    0|\n",
            "| 357386|2015-02-03 00:48:38|2015-03-24 18:27:23|            40|NWSVDOHYIOBDR|   Ads|FireFox|  M| 24|3.03737227906483E9|    0|\n",
            "| 289172|2015-07-17 05:48:45|2015-11-12 22:08:11|            46|KFZGQIWDIRLZB|Direct|FireFox|  F| 53|1.04459009757141E9|    0|\n",
            "+-------+-------------------+-------------------+--------------+-------------+------+-------+---+---+------------------+-----+\n",
            "only showing top 20 rows\n",
            "\n"
          ]
        }
      ]
    },
    {
      "cell_type": "markdown",
      "source": [
        "# **4. Checando o Schema e tratamento de dados:**"
      ],
      "metadata": {
        "id": "DW4h4Nf_0kju"
      }
    },
    {
      "cell_type": "code",
      "source": [
        "df.printSchema()"
      ],
      "metadata": {
        "id": "bn8F2fOp0kJV",
        "outputId": "1581e859-9e89-4105-c354-1dbca4831e43",
        "colab": {
          "base_uri": "https://localhost:8080/"
        }
      },
      "execution_count": 6,
      "outputs": [
        {
          "output_type": "stream",
          "name": "stdout",
          "text": [
            "root\n",
            " |-- user_id: integer (nullable = true)\n",
            " |-- signup_time: timestamp (nullable = true)\n",
            " |-- purchase_time: timestamp (nullable = true)\n",
            " |-- purchase_value: integer (nullable = true)\n",
            " |-- device_id: string (nullable = true)\n",
            " |-- source: string (nullable = true)\n",
            " |-- browser: string (nullable = true)\n",
            " |-- sex: string (nullable = true)\n",
            " |-- age: integer (nullable = true)\n",
            " |-- ip_address: double (nullable = true)\n",
            " |-- class: integer (nullable = true)\n",
            "\n"
          ]
        }
      ]
    },
    {
      "cell_type": "code",
      "source": [
        "# Verifica valores nulos em cada coluna\n",
        "nulos_por_coluna = df.select(*(sum(col(c).isNull().cast(\"int\")).alias(c) for c in df.columns))\n",
        "\n",
        "# Mostra o total de valores nulos em cada coluna\n",
        "nulos_por_coluna.show()\n",
        "\n",
        "#Caso haja algum valor nulo na tabela ele não seja significativo podemos utilizar o df.dropna()\n",
        "#Caso seja muitos registros existem várias técnicas que podemos utilizar, como fillna(), coalesce() e impute()\n",
        "\n",
        "#df = df.dropna()"
      ],
      "metadata": {
        "colab": {
          "base_uri": "https://localhost:8080/"
        },
        "id": "wiwvhughghjJ",
        "outputId": "02553c81-3ece-412b-f323-218c9e84eae8"
      },
      "execution_count": 7,
      "outputs": [
        {
          "output_type": "stream",
          "name": "stdout",
          "text": [
            "+-------+-----------+-------------+--------------+---------+------+-------+---+---+----------+-----+\n",
            "|user_id|signup_time|purchase_time|purchase_value|device_id|source|browser|sex|age|ip_address|class|\n",
            "+-------+-----------+-------------+--------------+---------+------+-------+---+---+----------+-----+\n",
            "|      0|          0|            0|             0|        0|     0|      0|  0|  0|         0|    0|\n",
            "+-------+-----------+-------------+--------------+---------+------+-------+---+---+----------+-----+\n",
            "\n"
          ]
        }
      ]
    },
    {
      "cell_type": "code",
      "source": [
        "#Conversão da coluna class para melhor entendimento do dataframe\n",
        "\n",
        "#Converter os valores da coluna 'class' para string e atribuir à nova coluna 'fraude'\n",
        "df = df.withColumn(\"fraude\", when(col(\"class\") == 1, \"Sim\").otherwise(\"Não\"))\n",
        "\n",
        "df = df.drop(\"class\")\n",
        "df.show()"
      ],
      "metadata": {
        "colab": {
          "base_uri": "https://localhost:8080/"
        },
        "id": "dGFgy3Uql2I6",
        "outputId": "98d1d478-3704-4b8a-eda5-b3e9f6d50934"
      },
      "execution_count": 8,
      "outputs": [
        {
          "output_type": "stream",
          "name": "stdout",
          "text": [
            "+-------+-------------------+-------------------+--------------+-------------+------+-------+---+---+------------------+------+\n",
            "|user_id|        signup_time|      purchase_time|purchase_value|    device_id|source|browser|sex|age|        ip_address|fraude|\n",
            "+-------+-------------------+-------------------+--------------+-------------+------+-------+---+---+------------------+------+\n",
            "|  22058|2015-02-24 22:55:49|2015-04-18 02:47:11|            34|QVPSPJUOCKZAR|   SEO| Chrome|  M| 39| 7.3275836879972E8|   Não|\n",
            "| 333320|2015-06-07 20:39:50|2015-06-08 01:38:54|            16|EOGFQPIZPYXFZ|   Ads| Chrome|  F| 53|3.50311387865908E8|   Não|\n",
            "|   1359|2015-01-01 18:52:44|2015-01-01 18:52:45|            15|YSSKYOSJHPPLJ|   SEO|  Opera|  M| 53|2.62147382011095E9|   Sim|\n",
            "| 150084|2015-04-28 21:13:25|2015-05-04 13:54:50|            44|ATGTXKYKUDUQN|   SEO| Safari|  M| 41|3.84054244391396E9|   Não|\n",
            "| 221365|2015-07-21 07:09:52|2015-09-09 18:40:53|            39|NAUITBZFJKHWW|   Ads| Safari|  M| 45|4.15583117452712E8|   Não|\n",
            "| 159135|2015-05-21 06:03:03|2015-07-09 08:05:14|            42|ALEYXFXINSXLZ|   Ads| Chrome|  M| 18|2.80931519992675E9|   Não|\n",
            "|  50116|2015-08-01 22:40:52|2015-08-27 03:37:57|            11|IWKVZHJOCLPUR|   Ads| Chrome|  F| 19|3.98748432851882E9|   Não|\n",
            "| 360585|2015-04-06 07:35:45|2015-05-25 17:21:14|            27|HPUCUYLMJBYFW|   Ads|  Opera|  M| 34|1.69245872764945E9|   Não|\n",
            "| 159045|2015-04-21 23:38:34|2015-06-02 14:01:54|            30|ILXYDOZIHOOHT|   SEO|     IE|  F| 43|3.71909425718731E9|   Não|\n",
            "| 182338|2015-01-25 17:49:49|2015-03-23 23:05:42|            62|NRFFPPHZYFUVC|   Ads|     IE|  M| 31|3.41674739579911E8|   Não|\n",
            "| 199700|2015-07-11 18:26:54|2015-10-28 21:59:40|            13|TEPSJVVXGNTYR|   Ads| Safari|  F| 35|1.81900857779416E9|   Não|\n",
            "|  73884|2015-05-29 16:22:02|2015-06-16 05:45:58|            58|ZTZZJUCRDOCJZ|Direct| Chrome|  M| 32|4.03828455322917E9|   Não|\n",
            "|  79203|2015-06-16 21:19:35|2015-06-21 03:29:59|            18|IBPNKSMCKUZWD|   SEO| Safari|  M| 33|4.16154092660127E9|   Não|\n",
            "| 299320|2015-03-03 19:17:07|2015-04-05 12:32:36|            50|RMKQNVEWGTWPC|Direct| Safari|  M| 38|3.17851001463508E9|   Não|\n",
            "|  82931|2015-02-16 02:50:30|2015-04-16 00:56:47|            15|XKIFNYUZMBWFU|   SEO|     IE|  M| 24| 4.2034877539487E9|   Não|\n",
            "|  31383|2015-02-01 01:06:17|2015-03-24 10:17:58|            58|UNUAVQXNWFBMO|   SEO| Safari|  F| 24|9.95732779036539E8|   Não|\n",
            "|  78986|2015-05-15 03:52:08|2015-08-11 02:29:47|            57|TGHVAWBMZRDHH|   SEO|FireFox|  M| 23|3.50388339185422E9|   Não|\n",
            "| 119824|2015-03-20 00:31:27|2015-04-05 07:31:46|            55|WFIIFCPIOGMHT|   Ads| Safari|  M| 38|  131423.789041531|   Não|\n",
            "| 357386|2015-02-03 00:48:38|2015-03-24 18:27:23|            40|NWSVDOHYIOBDR|   Ads|FireFox|  M| 24|3.03737227906483E9|   Não|\n",
            "| 289172|2015-07-17 05:48:45|2015-11-12 22:08:11|            46|KFZGQIWDIRLZB|Direct|FireFox|  F| 53|1.04459009757141E9|   Não|\n",
            "+-------+-------------------+-------------------+--------------+-------------+------+-------+---+---+------------------+------+\n",
            "only showing top 20 rows\n",
            "\n"
          ]
        }
      ]
    },
    {
      "cell_type": "markdown",
      "source": [
        "# **5. Análise inicial dos dados**\n"
      ],
      "metadata": {
        "id": "Lit6DvJN09P7"
      }
    },
    {
      "cell_type": "code",
      "source": [
        "#Sumarizando os dados\n",
        "\n",
        "df.summary().show()"
      ],
      "metadata": {
        "id": "MELAZ08g04kU",
        "outputId": "1e259b4b-e453-4306-d854-f5e4087fa6aa",
        "colab": {
          "base_uri": "https://localhost:8080/"
        }
      },
      "execution_count": 9,
      "outputs": [
        {
          "output_type": "stream",
          "name": "stdout",
          "text": [
            "+-------+------------------+-----------------+-------------+------+-------+------+-----------------+--------------------+------+\n",
            "|summary|           user_id|   purchase_value|    device_id|source|browser|   sex|              age|          ip_address|fraude|\n",
            "+-------+------------------+-----------------+-------------+------+-------+------+-----------------+--------------------+------+\n",
            "|  count|            151112|           151112|       151112|151112| 151112|151112|           151112|              151112|151112|\n",
            "|   mean|200171.04096961193|36.93537243898565|         NULL|  NULL|   NULL|  NULL|33.14070358409656|2.1521453309588385E9|  NULL|\n",
            "| stddev|115369.28502413367|18.32276214866217|         NULL|  NULL|   NULL|  NULL|8.617733490961522|1.2484970301004207E9|  NULL|\n",
            "|    min|                 2|                9|AAALBGNHHVMKG|   Ads| Chrome|     F|               18|    52093.4968949854|   Não|\n",
            "|    25%|            100606|               22|         NULL|  NULL|   NULL|  NULL|               27|  1.08581792738779E9|  NULL|\n",
            "|    50%|            199953|               35|         NULL|  NULL|   NULL|  NULL|               33|   2.1543656663847E9|  NULL|\n",
            "|    75%|            300018|               49|         NULL|  NULL|   NULL|  NULL|               39|  3.24301282917045E9|  NULL|\n",
            "|    max|            400000|              154|ZZZXASJUVUNMV|   SEO| Safari|     M|               76|  4.29485049967884E9|   Sim|\n",
            "+-------+------------------+-----------------+-------------+------+-------+------+-----------------+--------------------+------+\n",
            "\n"
          ]
        }
      ]
    },
    {
      "cell_type": "code",
      "source": [
        "#Definindo váriaveis globais para a fraude\n",
        "\n",
        "df_fraude = df.filter(df[\"fraude\"] == \"Sim\")\n",
        "df_legitima = df.filter(df[\"fraude\"] == \"Não\")"
      ],
      "metadata": {
        "id": "oM2DWjmqnwmo"
      },
      "execution_count": 10,
      "outputs": []
    },
    {
      "cell_type": "markdown",
      "source": [
        "**É importante verificar que as compras fraudulentas correspondem a cerca de 9.36% das compras totais, isso causa um impacto significativo no financeiro das empresas de e-commerce, abaixo temos algumas informações e insights referentes ao valor das compras (purchase_value)**\n",
        "\n",
        "É possível verificar que a média do valor de compras é parecido com as compras legitimas, isso pode ser uma forma de mascarar as compras fraudulentas em meio as legitimas, dessa forma o valor de compra não corresponde um varíavel tão significativa na identificação da fraude, sendo necessário a análise de outros fatores."
      ],
      "metadata": {
        "id": "KkNhLxubF-vp"
      }
    },
    {
      "cell_type": "code",
      "source": [
        "#Contando o número de compras fraudadas e legitimas(OBS: class = 1 é fraude, já = 0 é legítima).\n",
        "\n",
        "df.groupBy(\"fraude\").count().show()\n",
        "\n",
        "#Porcentagem em relação ao total de compras fraudadas\n",
        "porc_fraude = df_fraude.count() / df.count() * 100\n",
        "print(porc_fraude)\n",
        "\n",
        "#Porcentagem em relação ao total de compras legítimas.\n",
        "porc_legitima = df_legitima.count() / df.count() * 100\n",
        "print(porc_legitima)"
      ],
      "metadata": {
        "id": "CHpgHK7YNzpG",
        "outputId": "f24dd749-9a5b-4b4b-e56a-61104e666ab3",
        "colab": {
          "base_uri": "https://localhost:8080/"
        }
      },
      "execution_count": 11,
      "outputs": [
        {
          "output_type": "stream",
          "name": "stdout",
          "text": [
            "+------+------+\n",
            "|fraude| count|\n",
            "+------+------+\n",
            "|   Não|136961|\n",
            "|   Sim| 14151|\n",
            "+------+------+\n",
            "\n",
            "9.364577267192546\n",
            "90.63542273280746\n"
          ]
        }
      ]
    },
    {
      "cell_type": "code",
      "source": [
        "#Valor de total de compra por compra fraudada e legitima.\n",
        "df_vendas_tipo = df.groupBy(\"fraude\").agg(sum(\"purchase_value\").alias(\"Total Vendas\"))\n",
        "\n",
        "df_vendas_tipo.show()"
      ],
      "metadata": {
        "colab": {
          "base_uri": "https://localhost:8080/"
        },
        "id": "upQAYQGTHqvx",
        "outputId": "9329d4cb-1ceb-4a45-d639-3dbdba0c85c6"
      },
      "execution_count": 52,
      "outputs": [
        {
          "output_type": "stream",
          "name": "stdout",
          "text": [
            "+------+------------+\n",
            "|fraude|Total Vendas|\n",
            "+------+------------+\n",
            "|   Não|     5057890|\n",
            "|   Sim|      523488|\n",
            "+------+------------+\n",
            "\n"
          ]
        }
      ]
    },
    {
      "cell_type": "code",
      "source": [
        "#Resumo do valor de compras em relação ao indicador de fraude.\n",
        "\n",
        "df_resumo = df.groupby(\"fraude\").agg(\n",
        "    sql.functions.mean(\"purchase_value\").alias(\"valor_medio\"),\n",
        "    sql.functions.stddev(\"purchase_value\").alias(\"desvio_padrao\"),\n",
        "    sql.functions.count(\"purchase_value\").alias(\"contagem\"),\n",
        ")\n",
        "\n",
        "df_resumo.show()"
      ],
      "metadata": {
        "id": "yYyILPZSTJjx",
        "outputId": "1b9eb84c-2f07-448c-98cf-a583f1a27cc2",
        "colab": {
          "base_uri": "https://localhost:8080/"
        }
      },
      "execution_count": 13,
      "outputs": [
        {
          "output_type": "stream",
          "name": "stdout",
          "text": [
            "+------+------------------+------------------+--------+\n",
            "|fraude|       valor_medio|     desvio_padrao|contagem|\n",
            "+------+------------------+------------------+--------+\n",
            "|   Não| 36.92941786347939| 18.31506387000993|  136961|\n",
            "|   Sim|36.993004027983886|18.397653690084162|   14151|\n",
            "+------+------------------+------------------+--------+\n",
            "\n"
          ]
        }
      ]
    },
    {
      "cell_type": "markdown",
      "source": [
        "**A alta frequência de compras com apenas um segundo de diferença entre criação de conta e compra levanta a suspeita de um ataque \"pump and dump\". Nesse tipo de fraude, os fraudadores criam contas rapidamente, fazem compras fraudulentas e abandonam as contas, isso é ainda mais reforçado ao verificarmos que todas as compras tem um id de usuário (user_id) diferente**\n",
        "\n",
        "\n",
        "Possíveis soluções seria análise da velocidade de digitação, além disso contas com velocidades anormais podem ser bloqueadas para análise manual ou através de uma IA, além disso verificação adicional de identidade, como autenticação multifator (MFA) ajudaria a reduzir esse tipo de método para compras fraudulentas."
      ],
      "metadata": {
        "id": "KJyuG9morcs2"
      }
    },
    {
      "cell_type": "code",
      "source": [
        "#Verificando a diferença de dias e segundos para a criação da conta até a data da compra\n",
        "\n",
        "df_datadif_dia = df_fraude.withColumn(\"dias_diferenca\", datediff(\"purchase_time\", \"signup_time\"))\n",
        "\n",
        "df_datadif_segundos = df_fraude.withColumn(\"segundos_diferenca\", unix_timestamp(\"purchase_time\") - unix_timestamp(\"signup_time\"))"
      ],
      "metadata": {
        "id": "ReX1X-tUmL7_"
      },
      "execution_count": 14,
      "outputs": []
    },
    {
      "cell_type": "code",
      "source": [
        "df_datadif_dia.show()\n",
        "df_datadif_segundos.show()"
      ],
      "metadata": {
        "colab": {
          "base_uri": "https://localhost:8080/"
        },
        "id": "9kc37BW8m_bW",
        "outputId": "5aa4cc86-cc17-4ab5-f027-3cd529a3ab68"
      },
      "execution_count": 15,
      "outputs": [
        {
          "output_type": "stream",
          "name": "stdout",
          "text": [
            "+-------+-------------------+-------------------+--------------+-------------+------+-------+---+---+------------------+------+--------------+\n",
            "|user_id|        signup_time|      purchase_time|purchase_value|    device_id|source|browser|sex|age|        ip_address|fraude|dias_diferenca|\n",
            "+-------+-------------------+-------------------+--------------+-------------+------+-------+---+---+------------------+------+--------------+\n",
            "|   1359|2015-01-01 18:52:44|2015-01-01 18:52:45|            15|YSSKYOSJHPPLJ|   SEO|  Opera|  M| 53|2.62147382011095E9|   Sim|             0|\n",
            "| 171711|2015-01-11 01:51:15|2015-01-11 01:51:16|            52|YPLQGKBAAULUV|Direct|     IE|  F| 35|1.12061933584996E9|   Sim|             0|\n",
            "|  59780|2015-01-04 22:32:33|2015-01-16 01:13:43|            31|WUMOBGUCBOXPO|   SEO|FireFox|  M| 36| 1.7521668237958E9|   Sim|            12|\n",
            "| 151705|2015-01-07 03:44:53|2015-01-07 03:44:54|            48|URHCRIXOMLJMH|   SEO| Chrome|  F| 27|2.83602522069469E9|   Sim|             0|\n",
            "| 345865|2015-02-01 05:59:23|2015-02-20 08:09:10|            36|FKQPZUELCRKBL|   SEO|     IE|  M| 30|2.74058978715788E9|   Sim|            19|\n",
            "| 324683|2015-01-18 02:51:59|2015-04-19 22:24:33|            27|JFVSIORUJBMXS|   Ads|     IE|  M| 28|4.22802781225944E9|   Sim|            91|\n",
            "| 336190|2015-01-05 21:07:24|2015-03-15 00:43:18|            14|ECDEOLUBPCUAI|   Ads|     IE|  M| 35|4.00689991674828E9|   Sim|            69|\n",
            "| 181004|2015-01-07 17:45:16|2015-01-07 17:45:17|            10|WETYPHOQVLWMK|   Ads|FireFox|  M| 36|2.29333268178064E9|   Sim|             0|\n",
            "| 392706|2015-01-07 08:15:53|2015-01-07 08:15:54|            65|VRYLIRAQJIIIE|   SEO|  Opera|  F| 30|1.21310490378116E9|   Sim|             0|\n",
            "|  67592|2015-01-10 23:23:25|2015-01-10 23:23:26|            38|ITUMJCKWEYNDD|   Ads| Safari|  M| 43|3.87475761726129E9|   Sim|             0|\n",
            "| 198982|2015-04-17 07:26:15|2015-05-03 21:43:57|            44|BYSCYGRHWSHIU|   Ads| Chrome|  F| 26|1.33410617113356E9|   Sim|            16|\n",
            "| 352206|2015-01-06 21:48:13|2015-01-06 21:48:14|            45|FRITFBEXOSJEI|   Ads|     IE|  F| 22|1.36751750776938E9|   Sim|             0|\n",
            "| 102563|2015-03-26 12:11:48|2015-05-08 11:45:09|            45|JUVSDAWADEXXX|   SEO| Chrome|  M| 41|3.75447185104302E9|   Sim|            43|\n",
            "| 162603|2015-07-30 00:25:42|2015-10-12 04:28:11|            26|LEAPEDUGFIJAS|   SEO| Chrome|  M| 31|3.42760238973259E9|   Sim|            74|\n",
            "| 104061|2015-01-05 00:09:57|2015-01-05 00:09:58|            23|XSEQHFFOYFICY|   SEO|     IE|  M| 33|2.01198914458386E9|   Sim|             0|\n",
            "| 348260|2015-01-10 17:13:50|2015-01-10 17:13:51|            18|VOQAAYLLJLUII|   SEO| Safari|  M| 27|7.98938591259098E8|   Sim|             0|\n",
            "| 121703|2015-01-06 08:56:42|2015-01-06 08:56:43|            28|XAVNTONBKCVJS|Direct| Safari|  M| 34|2.89001203953189E9|   Sim|             0|\n",
            "| 142279|2015-06-10 04:22:41|2015-06-14 00:02:38|            46|LLJGYWZXYIXJR|   Ads| Safari|  M| 29|4.24505885805681E9|   Sim|             4|\n",
            "| 292922|2015-01-07 11:51:20|2015-01-07 11:51:21|            11|LCIDSXJYNIOGD|   SEO|     IE|  M| 30| 1.4478796032071E9|   Sim|             0|\n",
            "| 170138|2015-01-08 09:32:59|2015-01-08 09:33:00|            14|GTIYVLCMAYBFA|   Ads|FireFox|  M| 39|2.14169194761474E9|   Sim|             0|\n",
            "+-------+-------------------+-------------------+--------------+-------------+------+-------+---+---+------------------+------+--------------+\n",
            "only showing top 20 rows\n",
            "\n",
            "+-------+-------------------+-------------------+--------------+-------------+------+-------+---+---+------------------+------+------------------+\n",
            "|user_id|        signup_time|      purchase_time|purchase_value|    device_id|source|browser|sex|age|        ip_address|fraude|segundos_diferenca|\n",
            "+-------+-------------------+-------------------+--------------+-------------+------+-------+---+---+------------------+------+------------------+\n",
            "|   1359|2015-01-01 18:52:44|2015-01-01 18:52:45|            15|YSSKYOSJHPPLJ|   SEO|  Opera|  M| 53|2.62147382011095E9|   Sim|                 1|\n",
            "| 171711|2015-01-11 01:51:15|2015-01-11 01:51:16|            52|YPLQGKBAAULUV|Direct|     IE|  F| 35|1.12061933584996E9|   Sim|                 1|\n",
            "|  59780|2015-01-04 22:32:33|2015-01-16 01:13:43|            31|WUMOBGUCBOXPO|   SEO|FireFox|  M| 36| 1.7521668237958E9|   Sim|            960070|\n",
            "| 151705|2015-01-07 03:44:53|2015-01-07 03:44:54|            48|URHCRIXOMLJMH|   SEO| Chrome|  F| 27|2.83602522069469E9|   Sim|                 1|\n",
            "| 345865|2015-02-01 05:59:23|2015-02-20 08:09:10|            36|FKQPZUELCRKBL|   SEO|     IE|  M| 30|2.74058978715788E9|   Sim|           1649387|\n",
            "| 324683|2015-01-18 02:51:59|2015-04-19 22:24:33|            27|JFVSIORUJBMXS|   Ads|     IE|  M| 28|4.22802781225944E9|   Sim|           7932754|\n",
            "| 336190|2015-01-05 21:07:24|2015-03-15 00:43:18|            14|ECDEOLUBPCUAI|   Ads|     IE|  M| 35|4.00689991674828E9|   Sim|           5888154|\n",
            "| 181004|2015-01-07 17:45:16|2015-01-07 17:45:17|            10|WETYPHOQVLWMK|   Ads|FireFox|  M| 36|2.29333268178064E9|   Sim|                 1|\n",
            "| 392706|2015-01-07 08:15:53|2015-01-07 08:15:54|            65|VRYLIRAQJIIIE|   SEO|  Opera|  F| 30|1.21310490378116E9|   Sim|                 1|\n",
            "|  67592|2015-01-10 23:23:25|2015-01-10 23:23:26|            38|ITUMJCKWEYNDD|   Ads| Safari|  M| 43|3.87475761726129E9|   Sim|                 1|\n",
            "| 198982|2015-04-17 07:26:15|2015-05-03 21:43:57|            44|BYSCYGRHWSHIU|   Ads| Chrome|  F| 26|1.33410617113356E9|   Sim|           1433862|\n",
            "| 352206|2015-01-06 21:48:13|2015-01-06 21:48:14|            45|FRITFBEXOSJEI|   Ads|     IE|  F| 22|1.36751750776938E9|   Sim|                 1|\n",
            "| 102563|2015-03-26 12:11:48|2015-05-08 11:45:09|            45|JUVSDAWADEXXX|   SEO| Chrome|  M| 41|3.75447185104302E9|   Sim|           3713601|\n",
            "| 162603|2015-07-30 00:25:42|2015-10-12 04:28:11|            26|LEAPEDUGFIJAS|   SEO| Chrome|  M| 31|3.42760238973259E9|   Sim|           6408149|\n",
            "| 104061|2015-01-05 00:09:57|2015-01-05 00:09:58|            23|XSEQHFFOYFICY|   SEO|     IE|  M| 33|2.01198914458386E9|   Sim|                 1|\n",
            "| 348260|2015-01-10 17:13:50|2015-01-10 17:13:51|            18|VOQAAYLLJLUII|   SEO| Safari|  M| 27|7.98938591259098E8|   Sim|                 1|\n",
            "| 121703|2015-01-06 08:56:42|2015-01-06 08:56:43|            28|XAVNTONBKCVJS|Direct| Safari|  M| 34|2.89001203953189E9|   Sim|                 1|\n",
            "| 142279|2015-06-10 04:22:41|2015-06-14 00:02:38|            46|LLJGYWZXYIXJR|   Ads| Safari|  M| 29|4.24505885805681E9|   Sim|            329997|\n",
            "| 292922|2015-01-07 11:51:20|2015-01-07 11:51:21|            11|LCIDSXJYNIOGD|   SEO|     IE|  M| 30| 1.4478796032071E9|   Sim|                 1|\n",
            "| 170138|2015-01-08 09:32:59|2015-01-08 09:33:00|            14|GTIYVLCMAYBFA|   Ads|FireFox|  M| 39|2.14169194761474E9|   Sim|                 1|\n",
            "+-------+-------------------+-------------------+--------------+-------------+------+-------+---+---+------------------+------+------------------+\n",
            "only showing top 20 rows\n",
            "\n"
          ]
        }
      ]
    },
    {
      "cell_type": "code",
      "source": [
        "# Contando os valores distintos de user_id\n",
        "df_usuarios_distintos = df.select(\"user_id\").distinct().count()\n",
        "\n",
        "\n",
        "# Imprimindo a quantidade de usuários distintos\n",
        "print(\"Quantidade de usuários distintos:\", df_usuarios_distintos)"
      ],
      "metadata": {
        "colab": {
          "base_uri": "https://localhost:8080/"
        },
        "id": "D_rLBMnaM7yB",
        "outputId": "1ea48736-eed4-471e-e79c-471bdf5c7483"
      },
      "execution_count": 16,
      "outputs": [
        {
          "output_type": "stream",
          "name": "stdout",
          "text": [
            "Quantidade de usuários distintos: 151112\n"
          ]
        }
      ]
    },
    {
      "cell_type": "markdown",
      "source": [
        "**Esse é um insight valioso e indica uma disparidade significativa entre o número de compras fraudulentas e legítimas em relação a um determinado dispositivo.**\n",
        "\n",
        "Possíveis soluções seria bloquear dispositivos que realizam muitas compras em pouco tempo, além disso como podemos ver no total acumulado por dispositivo e na média móvel os dispositivos sempre fazem as compras com o mesmo valor, o que pode ser mais indício de um padrão no comportamento dos compradores fraudulentos."
      ],
      "metadata": {
        "id": "6UbHuQIgxH6m"
      }
    },
    {
      "cell_type": "code",
      "source": [
        "#Dispositivos com mais compras fraudulentas\n",
        "\n",
        "df_dispositivos_fraude = df_fraude.groupBy(\"device_id\").agg(count(\"purchase_value\").alias(\"Contagem\"),round(avg(\"purchase_value\"), 2).alias(\"Valor médio compras\"))\n",
        "df_dispositivos_fraude = df_dispositivos_fraude.orderBy(\"Contagem\", ascending = False)\n",
        "df_dispositivos_fraude.show()"
      ],
      "metadata": {
        "colab": {
          "base_uri": "https://localhost:8080/"
        },
        "id": "PmwMGQ_RxICE",
        "outputId": "a4c6e2eb-af81-450f-d9df-61b26c6e2d81"
      },
      "execution_count": 17,
      "outputs": [
        {
          "output_type": "stream",
          "name": "stdout",
          "text": [
            "+-------------+--------+-------------------+\n",
            "|    device_id|Contagem|Valor médio compras|\n",
            "+-------------+--------+-------------------+\n",
            "|EQYVNEGOFLAWK|      19|              68.53|\n",
            "|KIPFSCNUGOLDP|      19|               58.0|\n",
            "|ITUMJCKWEYNDD|      19|               38.0|\n",
            "|NGQCKIADMZORL|      19|               42.0|\n",
            "|CQTUVBYIWWWBC|      19|               32.0|\n",
            "|ZUSVMDEZRBDTX|      19|               47.0|\n",
            "|SDJQRPKXQFBED|      18|               33.0|\n",
            "|BWSMVSLCJXMCM|      18|               15.0|\n",
            "|EGLGSEGYPMMAM|      18|               36.0|\n",
            "|IGKYVZDBEGALB|      18|               26.0|\n",
            "|CDFXVYHOIHPYP|      18|               44.0|\n",
            "|OGBNHQHDZLGFZ|      17|               59.0|\n",
            "|FFWAQIABHGYJC|      17|               11.0|\n",
            "|XJWEQEWCBRAKD|      17|               24.0|\n",
            "|GTIYVLCMAYBFA|      17|               14.0|\n",
            "|QVMVTZOIJDKNR|      17|               59.0|\n",
            "|XHZBVWFWHSGTQ|      17|               54.0|\n",
            "|KPAAACGRQWYIK|      17|               81.0|\n",
            "|RWZCXZTQUORQL|      17|               71.0|\n",
            "|TAODVYWZTHMTO|      17|               40.0|\n",
            "+-------------+--------+-------------------+\n",
            "only showing top 20 rows\n",
            "\n"
          ]
        }
      ]
    },
    {
      "cell_type": "code",
      "source": [
        "#Dispositivos com mais compras legitimas.\n",
        "\n",
        "df_dispositivos_legitima = df_legitima.groupBy(\"device_id\").agg(count(\"purchase_value\").alias(\"Contagem\"),round(avg(\"purchase_value\"), 2).alias(\"Valor médio compras\"))\n",
        "df_dispositivos_legitima = df_dispositivos_legitima.orderBy(\"Contagem\", ascending = False)\n",
        "df_dispositivos_legitima.show()"
      ],
      "metadata": {
        "colab": {
          "base_uri": "https://localhost:8080/"
        },
        "id": "-PfqNBBHzmV1",
        "outputId": "75fdc3af-095b-4f51-a741-1d886645c519"
      },
      "execution_count": 18,
      "outputs": [
        {
          "output_type": "stream",
          "name": "stdout",
          "text": [
            "+-------------+--------+-------------------+\n",
            "|    device_id|Contagem|Valor médio compras|\n",
            "+-------------+--------+-------------------+\n",
            "|FHKAGBGKXTAFT|       3|               36.0|\n",
            "|MSXHVARAESYVD|       3|              37.67|\n",
            "|VGJENUEZWZAOK|       3|               43.0|\n",
            "|QKCFXAKWCADLJ|       3|              31.33|\n",
            "|MJOUMICHIMYAP|       3|               21.0|\n",
            "|CIWZEIWVKCTDZ|       3|               41.0|\n",
            "|MDLRUHFIIHHPY|       3|               40.0|\n",
            "|QFZJSWVRVKZAT|       3|              73.67|\n",
            "|HVGLMDIRYIEVX|       3|              38.33|\n",
            "|WKXDOKMKCXLNQ|       3|               31.0|\n",
            "|MBXRPIGJLGMHU|       3|               53.0|\n",
            "|BYCZKAGDTERRQ|       3|               29.0|\n",
            "|HPJABLMUQASBK|       3|               19.0|\n",
            "|TUTIBAJWVRPPI|       3|              60.33|\n",
            "|ESTKJLLKCHBMW|       3|              51.33|\n",
            "|FUJYPBUMWDXTO|       3|               38.0|\n",
            "|LLVQVKNEEXFMS|       3|              35.33|\n",
            "|NMWIJIQLRSPTN|       3|              53.33|\n",
            "|CPSDECQLSMHGK|       3|              41.67|\n",
            "|HCYSLYNRFLAXU|       3|              33.33|\n",
            "+-------------+--------+-------------------+\n",
            "only showing top 20 rows\n",
            "\n"
          ]
        }
      ]
    },
    {
      "cell_type": "code",
      "source": [
        "from pyspark.sql.window import Window\n",
        "\n",
        "windowSpec = Window.partitionBy(\"device_id\").orderBy(desc(\"purchase_time\"))\n",
        "\n",
        "# Calculando o total acumulado o valor de compra\n",
        "df_total_acumulado = df_fraude.withColumn(\n",
        "    \"Total Acumulado\", sum(\"purchase_value\").over(windowSpec)\n",
        ")\n",
        "\n",
        "# Calculando a média móvel do valor de compra\n",
        "tam_janela = 3\n",
        "df_media_movel = df_total_acumulado.withColumn(\n",
        "    \"Média Móvel\",\n",
        "    avg(\"purchase_value\").over(windowSpec.rowsBetween(-tam_janela + 1, 0)),\n",
        ")\n",
        "\n",
        "# Exibindo os resultados\n",
        "df_media_movel.show()"
      ],
      "metadata": {
        "colab": {
          "base_uri": "https://localhost:8080/"
        },
        "id": "0vt-VUOoEVIs",
        "outputId": "6925f558-36bb-4331-9578-631e93647973"
      },
      "execution_count": 19,
      "outputs": [
        {
          "output_type": "stream",
          "name": "stdout",
          "text": [
            "+-------+-------------------+-------------------+--------------+-------------+------+-------+---+---+------------------+------+---------------+-----------+\n",
            "|user_id|        signup_time|      purchase_time|purchase_value|    device_id|source|browser|sex|age|        ip_address|fraude|Total Acumulado|Média Móvel|\n",
            "+-------+-------------------+-------------------+--------------+-------------+------+-------+---+---+------------------+------+---------------+-----------+\n",
            "|  77511|2015-01-01 04:25:31|2015-01-01 04:25:32|            57|AAAXXOZJRZRAO|   Ads|FireFox|  F| 36|1.37784923309361E9|   Sim|             57|       57.0|\n",
            "| 190872|2015-01-01 04:25:30|2015-01-01 04:25:31|            57|AAAXXOZJRZRAO|   Ads|FireFox|  F| 36|1.37784923309361E9|   Sim|            114|       57.0|\n",
            "| 314594|2015-01-01 04:25:29|2015-01-01 04:25:30|            57|AAAXXOZJRZRAO|   Ads|FireFox|  F| 36|1.37784923309361E9|   Sim|            171|       57.0|\n",
            "| 254993|2015-01-01 04:25:28|2015-01-01 04:25:29|            57|AAAXXOZJRZRAO|   Ads|FireFox|  F| 36|1.37784923309361E9|   Sim|            228|       57.0|\n",
            "| 100914|2015-01-01 04:25:27|2015-01-01 04:25:28|            57|AAAXXOZJRZRAO|   Ads|FireFox|  F| 36|1.37784923309361E9|   Sim|            285|       57.0|\n",
            "| 299963|2015-01-01 04:25:26|2015-01-01 04:25:27|            57|AAAXXOZJRZRAO|   Ads|FireFox|  F| 36|1.37784923309361E9|   Sim|            342|       57.0|\n",
            "| 271176|2015-01-01 04:25:25|2015-01-01 04:25:26|            57|AAAXXOZJRZRAO|   Ads|FireFox|  F| 36|1.37784923309361E9|   Sim|            399|       57.0|\n",
            "| 336015|2015-01-01 04:25:24|2015-01-01 04:25:25|            57|AAAXXOZJRZRAO|   Ads|FireFox|  F| 36|1.37784923309361E9|   Sim|            456|       57.0|\n",
            "|  64674|2015-01-01 04:25:23|2015-01-01 04:25:24|            57|AAAXXOZJRZRAO|   Ads|FireFox|  F| 36|1.37784923309361E9|   Sim|            513|       57.0|\n",
            "| 325729|2015-01-01 04:25:22|2015-01-01 04:25:23|            57|AAAXXOZJRZRAO|   Ads|FireFox|  F| 36|1.37784923309361E9|   Sim|            570|       57.0|\n",
            "| 211576|2015-02-27 18:04:07|2015-05-25 04:43:27|            26|AADGMPYOPXXCX|   SEO| Chrome|  M| 37|1.34601695422639E9|   Sim|             26|       26.0|\n",
            "|   1468|2015-07-24 19:29:24|2015-09-04 03:14:11|            63|AAEWGRKQJJMVI|Direct| Chrome|  F| 33|5.60479130995184E8|   Sim|             63|       63.0|\n",
            "|   8085|2015-03-15 19:41:26|2015-07-08 17:18:12|            46|AAIEIZJZIKDLN|   SEO| Chrome|  M| 44|2.48025554664894E9|   Sim|             46|       46.0|\n",
            "| 216015|2015-02-09 05:29:53|2015-04-14 09:57:34|            44|AAJCSUCPHKORJ|Direct| Safari|  F| 41| 5.6783296425608E8|   Sim|             44|       44.0|\n",
            "| 231764|2015-04-25 20:21:36|2015-06-10 01:36:11|            39|AAMSWOQZIJJZC|   SEO| Safari|  F| 36|2.63861400861493E9|   Sim|             39|       39.0|\n",
            "| 253029|2015-06-15 23:53:20|2015-06-20 10:03:00|            48|AANHQRSKUCHIC|   Ads| Chrome|  M| 50|4.12759860921033E9|   Sim|             48|       48.0|\n",
            "|   9925|2015-01-12 23:29:44|2015-01-12 23:29:45|            42|AANYBGQSWHRTK|   SEO| Safari|  M| 29|2.70798363352978E9|   Sim|             42|       42.0|\n",
            "| 117468|2015-01-12 23:29:43|2015-01-12 23:29:44|            42|AANYBGQSWHRTK|   SEO| Safari|  M| 29|2.70798363352978E9|   Sim|             84|       42.0|\n",
            "| 385437|2015-01-12 23:29:42|2015-01-12 23:29:43|            42|AANYBGQSWHRTK|   SEO| Safari|  M| 29|2.70798363352978E9|   Sim|            126|       42.0|\n",
            "|  99187|2015-01-12 23:29:41|2015-01-12 23:29:42|            42|AANYBGQSWHRTK|   SEO| Safari|  M| 29|2.70798363352978E9|   Sim|            168|       42.0|\n",
            "+-------+-------------------+-------------------+--------------+-------------+------+-------+---+---+------------------+------+---------------+-----------+\n",
            "only showing top 20 rows\n",
            "\n"
          ]
        }
      ]
    },
    {
      "cell_type": "markdown",
      "source": [
        "# **6. Gravando o resultado em Parquet**"
      ],
      "metadata": {
        "id": "fkKQrZ9kinx5"
      }
    },
    {
      "cell_type": "code",
      "source": [
        "#Gravando o resultado e apresentando mensagem caso dê erro.\n",
        "path = \"/content/dataframeFinal\"\n",
        "try:\n",
        "    df_media_movel.write.option(\"mode\", \"overwrite\").parquet(path)\n",
        "    print(\"Arquivo salvo com sucesso!\")\n",
        "except Exception as e:\n",
        "    print(\"Erro ao salvar o arquivo:\", e)\n",
        "\n",
        "display(path)"
      ],
      "metadata": {
        "colab": {
          "base_uri": "https://localhost:8080/"
        },
        "id": "YrU9__SeikG2",
        "outputId": "9282c5e2-013a-47a9-f024-fc9044b6ba56"
      },
      "execution_count": 37,
      "outputs": [
        {
          "output_type": "stream",
          "name": "stdout",
          "text": [
            "Arquivo salvo com sucesso!\n"
          ]
        }
      ]
    },
    {
      "cell_type": "markdown",
      "source": [
        "# **7. Conclusão**"
      ],
      "metadata": {
        "id": "Nr6VWpGPVt82"
      }
    },
    {
      "cell_type": "markdown",
      "source": [
        "Esta análise exploratória de dados fornece insights valiosos sobre a fraude em compras online, utilizando informações sobre valor da compra, frequência de compras, dispositivos utilizados e comportamento do usuário.\n",
        "\n",
        "**1. 9.36% das compras são fraudulentas: Essa porcentagem, embora pareça pequena, representa um impacto significativo nas finanças das empresas de e-commerce.**\n",
        "\n",
        "**2. Valor médio similar entre compras legítimas e fraudulentas: O valor da compra por si só não se mostra um indicador confiável para identificar fraudes, pois a média é similar em ambos os tipos de compra. Os fraudadores mascaram suas ações imitando o comportamento dos compradores legítimos.**\n",
        "\n",
        "**3. Ataque \"pump and dump\": A alta frequência de compras com apenas um segundo de diferença entre criação de conta e compra levanta a suspeita desse tipo de ataque. Os fraudadores criam contas rapidamente, realizam compras fraudulentas e as abandonam, apesar de manterem o mesmo dispositivo, o que pode ser uma ótima métrica para mitigar os prejuízos.**\n",
        "\n",
        "**4. A média móvel constante pode indicar que um fraudador está usando um script ou bot para realizar compras automatizadas.**\n",
        "\n",
        "Algumas soluções apresentadas incluem: **Análise da velocidade na criação de conta e compra ajudando na identificação de bots e scripts, bloqueio de disposítivos que apresentam multiplas compras com o mesmo valor em baixíssimo período e verificação de multifator (MFA) para dificultar na criação de multiplas contas.**\n",
        "\n",
        "Esta análise fornece uma visão geral da fraude em compras online e serve como base para investigações mais aprofundadas."
      ],
      "metadata": {
        "id": "jxf162poV0fz"
      }
    }
  ]
}